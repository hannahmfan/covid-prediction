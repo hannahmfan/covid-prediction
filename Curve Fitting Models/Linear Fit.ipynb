{
 "cells": [
  {
   "cell_type": "code",
   "execution_count": 183,
   "metadata": {},
   "outputs": [],
   "source": [
    "from scipy.special import erf\n",
    "from scipy.optimize import curve_fit\n",
    "import numpy as np\n",
    "import matplotlib.pyplot as plt\n",
    "import time\n",
    "\n",
    "import pandas as pd\n",
    "from util import util"
   ]
  },
  {
   "cell_type": "code",
   "execution_count": 184,
   "metadata": {},
   "outputs": [],
   "source": [
    "# We import the sample_submission.csv file as a way of determining\n",
    "# the order of the rows in out output file\n",
    "sample_submission = pd.read_csv(\"../sample_submission.csv\")\n",
    "\n",
    "# The fips_key.csv file contains standard information about each county\n",
    "key = pd.read_csv(\"../data/us/processing_data/fips_key.csv\", encoding='latin-1')\n",
    "\n",
    "# Daily deaths contains the death count per day for each county.\n",
    "# Cumulative deaths contains the total death count for each county\n",
    "# by day.\n",
    "daily_deaths = pd.read_csv(\"../data/us/covid/nyt_us_counties_daily.csv\")\n",
    "cumulative_deaths = pd.read_csv(\"../data/us/covid/deaths.csv\")\n",
    "county_land_areas = pd.read_csv(\"../data/us/demographics/county_land_areas.csv\", encoding='latin1')\n",
    "county_population = pd.read_csv(\"../data/us/demographics/county_populations.csv\", encoding='latin1')\n",
    "mobility_data = pd.read_csv(\"../data/us/mobility/DL-us-m50.csv\", encoding='latin1')\n",
    "\n",
    "# List of all counties\n",
    "all_fips = key[\"FIPS\"].tolist()\n",
    "\n",
    "util = util(daily_deaths, cumulative_deaths, county_land_areas, county_population, mobility_data, key)"
   ]
  },
  {
   "cell_type": "code",
   "execution_count": 185,
   "metadata": {},
   "outputs": [],
   "source": [
    "def linear_curve(times, slope, intercept):\n",
    "    return [x * slope for x in times] + intercept\n",
    "\n",
    "def constant_curve(times, c):\n",
    "    return [x * c for x in times]"
   ]
  },
  {
   "cell_type": "code",
   "execution_count": 186,
   "metadata": {},
   "outputs": [],
   "source": [
    "def make_predictions(fips, startDate, endDate, n_past_steps, n_steps):\n",
    "    # Use the daily deaths list to compute a list of the cumulative deaths.\n",
    "    # This is better than directly accessing cumulative deaths because\n",
    "    # the NY data is faulty, so we can directly replace the daily deaths\n",
    "    # much more easily\n",
    "    \n",
    "    daily_deaths_list = util.get_deaths_list(fips, endDate=endDate)[-n_past_steps:]\n",
    "\n",
    "    # Compute x and y lists to pass to curve_fit\n",
    "    x = [i for i in range(n_past_steps)]\n",
    "    y = daily_deaths_list\n",
    "    \n",
    "    if np.sum(daily_deaths_list) < 20:\n",
    "        return [0] * n_steps\n",
    "    \n",
    "    x_input = [i + n_past_steps for i in range(n_steps)]\n",
    "    popt, pcov = curve_fit(linear_curve, x, y, maxfev=10000)\n",
    "    output = linear_curve(x_input, popt[0], popt[1])\n",
    "    \n",
    "    return output\n",
    "\n",
    "def generate_quantiles(value):\n",
    "    quantiles = []\n",
    "    for i in range(-4, 5):\n",
    "        quantiles.append(value + value * 0.1 * i)\n",
    "\n",
    "    return quantiles\n",
    "\n",
    "def get_id_list():\n",
    "    return sample_submission[\"id\"].values\n",
    "\n",
    "def extract_fips_from_id(row_id):\n",
    "    return row_id.split('-')[-1]\n",
    "\n",
    "def extract_date_from_id(row_id):\n",
    "    split = row_id.split('-')\n",
    "    return '-'.join(split[:-1])"
   ]
  },
  {
   "cell_type": "code",
   "execution_count": 190,
   "metadata": {},
   "outputs": [],
   "source": [
    "dates_of_interest = [\"2020-05-10\", \"2020-05-11\", \"2020-05-12\", \"2020-05-13\", \"2020-05-14\", \"2020-05-15\", \"2020-05-16\", \\\n",
    "                     \"2020-05-17\", \"2020-05-18\", \"2020-05-19\", \"2020-05-20\", \"2020-05-1217\", \"2020-05-22\", \"2020-05-23\", \\\n",
    "                     \"2020-05-24\", \"2020-05-25\", \"2020-05-26\", \"2020-05-27\"]\n",
    "\n",
    "data = {}\n",
    "for fips in all_fips:\n",
    "    data[fips] = {}\n",
    "\n",
    "    predictions = make_predictions(fips, \"2020-03-30\", \"2020-05-09\", 14, 18)\n",
    "\n",
    "    for i, date in enumerate(dates_of_interest):\n",
    "        quantiles = generate_quantiles(predictions[i])\n",
    "        quantiles = [max(x, 0) for x in quantiles]\n",
    "        data[fips][date] = quantiles"
   ]
  },
  {
   "cell_type": "code",
   "execution_count": 191,
   "metadata": {},
   "outputs": [],
   "source": [
    "lists = []\n",
    "for row_id in get_id_list():\n",
    "    date = extract_date_from_id(row_id)\n",
    "    fips = int(extract_fips_from_id(row_id))\n",
    "    \n",
    "    if not fips in data:\n",
    "        lst = [row_id] + [\"%.2f\" % 0.00] * 9\n",
    "        lists.append(lst)\n",
    "        continue\n",
    "        \n",
    "    if not date in data[fips]:\n",
    "        lst = [row_id] + [\"%.2f\" % 0.00] * 9\n",
    "        lists.append(lst)\n",
    "        continue\n",
    "    \n",
    "    quantiles = data[fips][date]\n",
    "    lst = [row_id]\n",
    "\n",
    "    for q in quantiles:\n",
    "        if str(q) == \"nan\":\n",
    "            lst.append(\"%.2f\" % 0.00)\n",
    "        elif q < 0:\n",
    "            lst.append(\"%.2f\" % 0.00)\n",
    "        else:\n",
    "            lst.append(\"%.2f\" % q)\n",
    "            \n",
    "    lists.append(lst)\n",
    "    \n",
    "df = pd.DataFrame(lists, columns=sample_submission.columns)\n",
    "df.to_csv(\"linear_fit_submission.csv\", index=False, sep=',')"
   ]
  },
  {
   "cell_type": "code",
   "execution_count": 199,
   "metadata": {},
   "outputs": [
    {
     "name": "stdout",
     "output_type": "stream",
     "text": [
      "[37.80659340663661, 44.10769230774271, 50.40879120884881, 56.70989010995491, 63.010989011061014, 69.31208791216712, 75.61318681327322, 81.91428571437932, 88.21538461548542]\n"
     ]
    }
   ],
   "source": [
    "print(data[6037][\"2020-05-25\"])"
   ]
  },
  {
   "cell_type": "code",
   "execution_count": null,
   "metadata": {},
   "outputs": [],
   "source": []
  }
 ],
 "metadata": {
  "kernelspec": {
   "display_name": "Python 3",
   "language": "python",
   "name": "python3"
  },
  "language_info": {
   "codemirror_mode": {
    "name": "ipython",
    "version": 3
   },
   "file_extension": ".py",
   "mimetype": "text/x-python",
   "name": "python",
   "nbconvert_exporter": "python",
   "pygments_lexer": "ipython3",
   "version": "3.7.7"
  }
 },
 "nbformat": 4,
 "nbformat_minor": 4
}
