{
 "cells": [
  {
   "cell_type": "code",
   "execution_count": 17,
   "metadata": {},
   "outputs": [],
   "source": [
    "import numpy as np\n",
    "from numpy import array\n",
    "import pandas as pd\n",
    "from scipy.special import erf\n",
    "from scipy.optimize import curve_fit\n",
    "\n",
    "from matplotlib import pyplot as plt\n",
    "\n",
    "import pymc3 as pm\n",
    "import arviz as az\n",
    "\n",
    "import theano.tensor as tt\n",
    "from theano.tensor import _shared\n",
    "\n",
    "from util import util"
   ]
  },
  {
   "cell_type": "code",
   "execution_count": 18,
   "metadata": {},
   "outputs": [],
   "source": [
    "# We import the sample_submission.csv file as a way of determining\n",
    "# the order of the rows in out output file\n",
    "sample_submission = pd.read_csv(\"../sample_submission.csv\")\n",
    "\n",
    "# The fips_key.csv file contains standard information about each county\n",
    "key = pd.read_csv(\"../data/us/processing_data/fips_key.csv\", encoding='latin-1')\n",
    "\n",
    "# Daily deaths contains the death count per day for each county.\n",
    "# Cumulative deaths contains the total death count for each county\n",
    "# by day.\n",
    "daily_deaths = pd.read_csv(\"../data/us/covid/nyt_us_counties_daily.csv\")\n",
    "cumulative_deaths = pd.read_csv(\"../data/us/covid/deaths.csv\")\n",
    "county_land_areas = pd.read_csv(\"../data/us/demographics/county_land_areas.csv\", encoding='latin1')\n",
    "\n",
    "# List of all counties\n",
    "all_fips = key[\"FIPS\"].tolist()\n",
    "\n",
    "# Relevent dates\n",
    "today = cumulative_deaths.columns[-1]\n",
    "yesterday = cumulative_deaths.columns[-2]\n",
    "one_week_ago = cumulative_deaths.columns[-8]\n",
    "two_weeks_ago = cumulative_deaths.columns[-15]\n",
    "beginning = cumulative_deaths.columns[4]"
   ]
  },
  {
   "cell_type": "code",
   "execution_count": 19,
   "metadata": {},
   "outputs": [],
   "source": [
    "# Assume date is in format mm/dd/yy, convert to yyyy-mm-dd\n",
    "def convert_date_to_yyyy_mm_dd(date):\n",
    "    parts = date.split('/')\n",
    "    \n",
    "    # Ensure leading zeros if necessary\n",
    "    if len(parts[0]) == 1:\n",
    "        parts[0] = \"0\" + parts[0]\n",
    "    \n",
    "    if len(parts[1]) == 1:\n",
    "        parts[1] = \"0\" + parts[1]\n",
    "        \n",
    "    return \"2020\" + \"-\" + parts[0] + \"-\" + parts[1]\n",
    "\n",
    "# Assume date is in format yyyy-mm-dd, convert to mm/dd/yy\n",
    "def convert_date_to_mm_dd_yy(date):\n",
    "    parts = date.split('-')\n",
    "    \n",
    "    # Remove leading zeros if necessary\n",
    "    if parts[1][0] == \"0\":\n",
    "        parts[1] = parts[1][1:]\n",
    "    \n",
    "    if parts[2][0] == \"0\":\n",
    "        parts[2] = parts[2][1:]\n",
    "        \n",
    "    return parts[1] + \"/\" + parts[2] + \"/\" + \"20\""
   ]
  },
  {
   "cell_type": "code",
   "execution_count": 20,
   "metadata": {},
   "outputs": [],
   "source": [
    "util = util(daily_deaths, cumulative_deaths, county_land_areas, key)"
   ]
  },
  {
   "cell_type": "code",
   "execution_count": 28,
   "metadata": {},
   "outputs": [],
   "source": [
    "def func(x, a, b, c, d):\n",
    "    return a * erf(b * (x - c)) + d\n",
    "\n",
    "def linear(x, a, b):\n",
    "    return x * a + b"
   ]
  },
  {
   "cell_type": "code",
   "execution_count": 29,
   "metadata": {},
   "outputs": [],
   "source": [
    "def get_erf_coefs(x, y):\n",
    "    popt, pcov = curve_fit(func, x, y)\n",
    "    return popt\n",
    "\n",
    "def get_linear_coefs(x, y):\n",
    "    popt, pcov = curve_fit(linear, x, y)\n",
    "    return popt"
   ]
  },
  {
   "cell_type": "code",
   "execution_count": 33,
   "metadata": {},
   "outputs": [],
   "source": [
    "# Custom mean function\n",
    "class Erf(pm.gp.mean.Mean):\n",
    "    def __init__(self, a, b, c, d):\n",
    "        pm.gp.mean.Mean.__init__(self)\n",
    "        self.a = a\n",
    "        self.b = b\n",
    "        self.c = c\n",
    "        self.d = d\n",
    "\n",
    "    def __call__(self, X):\n",
    "        print(tt.alloc(1.0, X.shape[0]) * self.c)\n",
    "        means = []\n",
    "        for x in X:\n",
    "            means.append(self.a * erf(self.b * (x - self.c)) + self.d)\n",
    "        \n",
    "        return _shared(array(means))"
   ]
  },
  {
   "cell_type": "code",
   "execution_count": 35,
   "metadata": {},
   "outputs": [
    {
     "name": "stderr",
     "output_type": "stream",
     "text": [
      "/usr/local/lib/python3.7/site-packages/theano/tensor/basic.py:6611: FutureWarning: Using a non-tuple sequence for multidimensional indexing is deprecated; use `arr[tuple(seq)]` instead of `arr[seq]`. In the future this will be interpreted as an array index, `arr[np.array(seq)]`, which will result either in an error or a different result.\n",
      "  result[diagonal_slice] = x\n",
      "Auto-assigning NUTS sampler...\n",
      "Initializing NUTS using jitter+adapt_diag...\n",
      "/usr/local/lib/python3.7/site-packages/theano/tensor/basic.py:6611: FutureWarning: Using a non-tuple sequence for multidimensional indexing is deprecated; use `arr[tuple(seq)]` instead of `arr[seq]`. In the future this will be interpreted as an array index, `arr[np.array(seq)]`, which will result either in an error or a different result.\n",
      "  result[diagonal_slice] = x\n",
      "/usr/local/lib/python3.7/site-packages/theano/tensor/basic.py:6611: FutureWarning: Using a non-tuple sequence for multidimensional indexing is deprecated; use `arr[tuple(seq)]` instead of `arr[seq]`. In the future this will be interpreted as an array index, `arr[np.array(seq)]`, which will result either in an error or a different result.\n",
      "  result[diagonal_slice] = x\n",
      "Multiprocess sampling (10 chains in 10 jobs)\n",
      "NUTS: [σ, η, ρ]\n",
      "Sampling 10 chains, 250 divergences: 100%|██████████| 30000/30000 [00:55<00:00, 545.18draws/s]\n",
      "/usr/local/lib/python3.7/site-packages/theano/tensor/basic.py:6611: FutureWarning: Using a non-tuple sequence for multidimensional indexing is deprecated; use `arr[tuple(seq)]` instead of `arr[seq]`. In the future this will be interpreted as an array index, `arr[np.array(seq)]`, which will result either in an error or a different result.\n",
      "  result[diagonal_slice] = x\n",
      "There were 65 divergences after tuning. Increase `target_accept` or reparameterize.\n",
      "The acceptance probability does not match the target. It is 0.23348116737330898, but should be close to 0.8. Try to increase the number of tuning steps.\n",
      "There was 1 divergence after tuning. Increase `target_accept` or reparameterize.\n",
      "The acceptance probability does not match the target. It is 0.4773739715210139, but should be close to 0.8. Try to increase the number of tuning steps.\n",
      "The acceptance probability does not match the target. It is 0.9133885788362684, but should be close to 0.8. Try to increase the number of tuning steps.\n",
      "The acceptance probability does not match the target. It is 0.9021057600769069, but should be close to 0.8. Try to increase the number of tuning steps.\n",
      "There were 184 divergences after tuning. Increase `target_accept` or reparameterize.\n",
      "The acceptance probability does not match the target. It is 0.15649235410495557, but should be close to 0.8. Try to increase the number of tuning steps.\n",
      "The acceptance probability does not match the target. It is 0.9566291147796294, but should be close to 0.8. Try to increase the number of tuning steps.\n",
      "The number of effective samples is smaller than 25% for some parameters.\n"
     ]
    }
   ],
   "source": [
    "fips = 6037\n",
    "\n",
    "daily_deaths_list = util.get_deaths_list(fips, endDate=convert_date_to_yyyy_mm_dd(two_weeks_ago))\n",
    "cumulative_deaths_list = []\n",
    "\n",
    "curr = 0\n",
    "for i in range(len(daily_deaths_list) - 1):\n",
    "    curr += daily_deaths_list[i]\n",
    "    cumulative_deaths_list.append(curr)\n",
    "\n",
    "x = array([i for i in range(len(cumulative_deaths_list))])\n",
    "\n",
    "erf_coefs = get_erf_coefs(x, cumulative_deaths_list)\n",
    "linear_coefs = get_linear_coefs(x, cumulative_deaths_list)\n",
    "\n",
    "with pm.Model() as gp_covid_model:\n",
    "    # Lengthscale\n",
    "    ρ = pm.HalfCauchy('ρ', 10)\n",
    "    η = pm.HalfCauchy('η', 10)\n",
    "\n",
    "    M = pm.gp.mean.Linear(coeffs=linear_coefs[0], intercept=linear_coefs[1])\n",
    "    K = (η**2) * pm.gp.cov.ExpQuad(1, ρ) \n",
    "\n",
    "    σ = pm.HalfNormal('σ', 50)\n",
    "    gp = pm.gp.Marginal(mean_func=M, cov_func=K)\n",
    "    gp.marginal_likelihood('dates', X=x.reshape(-1, 1),  y=cumulative_deaths_list, noise=σ)\n",
    "\n",
    "with gp_covid_model:\n",
    "    gp_trace = pm.sample(1000, tune=2000, cores=10, random_seed=42)"
   ]
  },
  {
   "cell_type": "code",
   "execution_count": 36,
   "metadata": {},
   "outputs": [
    {
     "name": "stderr",
     "output_type": "stream",
     "text": [
      "/usr/local/lib/python3.7/site-packages/pymc3/sampling.py:1247: UserWarning: samples parameter is smaller than nchains times ndraws, some draws and/or chains may not be represented in the returned posterior predictive sample\n",
      "  \"samples parameter is smaller than nchains times ndraws, some draws \"\n",
      "  0%|          | 0/3 [00:00<?, ?it/s]/usr/local/lib/python3.7/site-packages/theano/tensor/basic.py:6611: FutureWarning: Using a non-tuple sequence for multidimensional indexing is deprecated; use `arr[tuple(seq)]` instead of `arr[seq]`. In the future this will be interpreted as an array index, `arr[np.array(seq)]`, which will result either in an error or a different result.\n",
      "  result[diagonal_slice] = x\n",
      "/usr/local/lib/python3.7/site-packages/theano/tensor/basic.py:6611: FutureWarning: Using a non-tuple sequence for multidimensional indexing is deprecated; use `arr[tuple(seq)]` instead of `arr[seq]`. In the future this will be interpreted as an array index, `arr[np.array(seq)]`, which will result either in an error or a different result.\n",
      "  result[diagonal_slice] = x\n",
      "100%|██████████| 3/3 [00:00<00:00,  6.33it/s]\n"
     ]
    }
   ],
   "source": [
    "X_pred = np.linspace(0, len(cumulative_deaths_list) + 20, 100)\n",
    "with gp_covid_model:\n",
    "    covid_pred = gp.conditional(\"deaths_pred\", X_pred.reshape(-1, 1))\n",
    "    gp_samples = pm.sample_posterior_predictive(gp_trace, vars=[covid_pred], samples=3, random_seed=42)"
   ]
  },
  {
   "cell_type": "code",
   "execution_count": 58,
   "metadata": {},
   "outputs": [
    {
     "data": {
      "image/png": "[encoded data removed]",
      "text/plain": [
       "<Figure size 432x288 with 1 Axes>"
      ]
     },
     "metadata": {
      "needs_background": "light"
     },
     "output_type": "display_data"
    }
   ],
   "source": [
    "util.plot_list(gp_samples[\"deaths_pred\"][0])"
   ]
  },
  {
   "cell_type": "code",
   "execution_count": 240,
   "metadata": {},
   "outputs": [
    {
     "data": {
      "image/png": "[encoded data removed]",
      "text/plain": [
       "<Figure size 432x288 with 1 Axes>"
      ]
     },
     "metadata": {
      "needs_background": "light"
     },
     "output_type": "display_data"
    }
   ],
   "source": [
    "x = [[i] for i in range(200)]\n",
    "y_pred, std = gp.predict(x, return_std=True)\n",
    "util.plot_list(y_pred)"
   ]
  },
  {
   "cell_type": "code",
   "execution_count": null,
   "metadata": {},
   "outputs": [],
   "source": []
  }
 ],
 "metadata": {
  "kernelspec": {
   "display_name": "Python 3",
   "language": "python",
   "name": "python3"
  },
  "language_info": {
   "codemirror_mode": {
    "name": "ipython",
    "version": 3
   },
   "file_extension": ".py",
   "mimetype": "text/x-python",
   "name": "python",
   "nbconvert_exporter": "python",
   "pygments_lexer": "ipython3",
   "version": "3.7.7"
  }
 },
 "nbformat": 4,
 "nbformat_minor": 4
}
