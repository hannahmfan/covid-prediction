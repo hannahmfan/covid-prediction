{
 "cells": [
  {
   "cell_type": "markdown",
   "metadata": {},
   "source": [
    "<h1>Curve Fitting Model for Covid-19 Prediction</h1>\n",
    "\n",
    "<p>This model uses an almost identical baseline model to the provided benchamrk erf model. It includes a few optimizations that improve its performance, especially on the larger counties. These improvements are:</p>\n",
    "\n",
    "• Multiplying predictions for NYC by 3 (weird, I know, but it works) <br>\n",
    "• When generating quantiles for a value, assume a constant difference between each quantile level <br>\n",
    "• For counties with fewer than 50 total deaths, predict all zeros (also seems weird)\n",
    "\n",
    "<p>We cannot use this model for a submission because it is so close to the benchmark model, and the improvements made do not represent actual machine learning techniques, just slight tweaks to the results</p>"
   ]
  },
  {
   "cell_type": "code",
   "execution_count": 1,
   "metadata": {},
   "outputs": [],
   "source": [
    "from scipy.special import erf\n",
    "from scipy.optimize import curve_fit\n",
    "import numpy as np\n",
    "import matplotlib.pyplot as plt\n",
    "import time\n",
    "\n",
    "import pandas as pd\n",
    "from util import util"
   ]
  },
  {
   "cell_type": "markdown",
   "metadata": {},
   "source": [
    "<h1>Global Dataframes and Variables</h1>"
   ]
  },
  {
   "cell_type": "code",
   "execution_count": 2,
   "metadata": {},
   "outputs": [],
   "source": [
    "# We import the sample_submission.csv file as a way of determining\n",
    "# the order of the rows in out output file\n",
    "sample_submission = pd.read_csv(\"../sample_submission.csv\")\n",
    "\n",
    "# The fips_key.csv file contains standard information about each county\n",
    "key = pd.read_csv(\"../data/us/processing_data/fips_key.csv\", encoding='latin-1')\n",
    "\n",
    "# Daily deaths contains the death count per day for each county.\n",
    "# Cumulative deaths contains the total death count for each county\n",
    "# by day.\n",
    "daily_deaths = pd.read_csv(\"../data/us/covid/nyt_us_counties_daily.csv\")\n",
    "cumulative_deaths = pd.read_csv(\"../data/us/covid/deaths.csv\")\n",
    "county_land_areas = pd.read_csv(\"../data/us/demographics/county_land_areas.csv\", encoding='latin1')\n",
    "county_population = pd.read_csv(\"../data/us/demographics/county_populations.csv\", encoding='latin1')\n",
    "mobility_data = pd.read_csv(\"../data/us/mobility/DL-us-m50.csv\", encoding='latin1')\n",
    "\n",
    "# List of all counties\n",
    "all_fips = key[\"FIPS\"].tolist()\n",
    "\n",
    "util = util(daily_deaths, cumulative_deaths, county_land_areas, county_population, mobility_data, key)"
   ]
  },
  {
   "cell_type": "markdown",
   "metadata": {},
   "source": [
    "<h1>Functions Used for Curve Fitting</h1>"
   ]
  },
  {
   "cell_type": "code",
   "execution_count": 3,
   "metadata": {},
   "outputs": [],
   "source": [
    "def erf_curve(times, log_max, slope, center):\n",
    "    max_val = 10 ** log_max\n",
    "    deaths = max_val * (1 + erf(slope * (times - center)))\n",
    "    return deaths\n",
    "\n",
    "def linear_curve(times, slope, intercept):\n",
    "    return [x * slope for x in times] + intercept\n",
    "\n",
    "def constant_curve(times, c):\n",
    "    return [x * c for x in times]"
   ]
  },
  {
   "cell_type": "markdown",
   "metadata": {},
   "source": [
    "<h1>Helper Functions for Producing a Submission</h1>"
   ]
  },
  {
   "cell_type": "code",
   "execution_count": 4,
   "metadata": {},
   "outputs": [],
   "source": [
    "def make_predictions(fips, startDate, endDate, n_steps):\n",
    "    # Use the daily deaths list to compute a list of the cumulative deaths.\n",
    "    # This is better than directly accessing cumulative deaths because\n",
    "    # the NY data is faulty, so we can directly replace the daily deaths\n",
    "    # much more easily\n",
    "    \n",
    "    daily_deaths_list = util.get_deaths_list(fips, endDate=endDate)\n",
    "    \n",
    "    #if len(daily_deaths_list) > 0 and daily_deaths_list[-1] > 20:\n",
    "    #    remove_portion = int(0.5 * len(daily_deaths_list))\n",
    "    #    daily_deaths_list = daily_deaths_list[remove_portion:]\n",
    "    \n",
    "    cumulative_deaths_list = []\n",
    "\n",
    "    curr = 0\n",
    "    for i in range(len(daily_deaths_list) - 1):\n",
    "        curr += daily_deaths_list[i]\n",
    "        cumulative_deaths_list.append(curr)\n",
    "    \n",
    "    # Compute x and y lists to pass to curve_fit\n",
    "    x = [i for i in range(len(cumulative_deaths_list))]\n",
    "    y = cumulative_deaths_list\n",
    "    \n",
    "    if len(cumulative_deaths_list) < 20 or y[-1] < 50:\n",
    "        return [0] * n_steps\n",
    "    \n",
    "    x_input = [i + len(cumulative_deaths_list) for i in range(n_steps + 1)]\n",
    "    popt, pcov = curve_fit(erf_curve, x, y, maxfev=10000)\n",
    "    output = erf_curve(x_input, popt[0], popt[1], popt[2])\n",
    "    \n",
    "    # Difference predictions to get daily deaths\n",
    "    predictions = np.diff(output)\n",
    "    \n",
    "    # Multiply predictions for NY by 3\n",
    "    #if fips == 36061:\n",
    "    #    for i in range(len(predictions)):\n",
    "    #        predictions[i] = predictions[i] * 3\n",
    "    \n",
    "    return predictions\n",
    "\n",
    "def generate_quantiles(value):\n",
    "    quantiles = []\n",
    "    for i in range(-4, 5):\n",
    "        quantiles.append(value + value * 0.2 * i)\n",
    "\n",
    "    return quantiles\n",
    "\n",
    "def get_id_list():\n",
    "    return sample_submission[\"id\"].values\n",
    "\n",
    "def extract_fips_from_id(row_id):\n",
    "    return row_id.split('-')[-1]\n",
    "\n",
    "def extract_date_from_id(row_id):\n",
    "    split = row_id.split('-')\n",
    "    return '-'.join(split[:-1])"
   ]
  },
  {
   "cell_type": "markdown",
   "metadata": {},
   "source": [
    "<h1>Place the Data into a Dictionary for Easy Access</h1>"
   ]
  },
  {
   "cell_type": "code",
   "execution_count": 11,
   "metadata": {},
   "outputs": [],
   "source": [
    "#dates_of_interest = [\"2020-05-08\", \"2020-05-09\", \"2020-05-10\", \"2020-05-11\",\n",
    "#                     \"2020-05-12\", \"2020-05-13\", \"2020-05-14\", \"2020-05-15\", \"2020-05-16\", \"2020-05-17\", \"2020-05-18\", \\\n",
    "#                    \"2020-05-19\", \"2020-05-20\", \"2020-05-21\", \"2020-05-22\", \"2020-05-23\", \"2020-05-24\", \"2020-05-25\", \"2020-05-26\", \"2020-05-27\"]\n",
    "\n",
    "#dates_of_interest = [\"2020-05-10\", \"2020-05-11\", \"2020-05-12\", \"2020-05-13\", \"2020-05-14\", \"2020-05-15\", \"2020-05-16\", \\\n",
    "#                     \"2020-05-17\", \"2020-05-18\", \"2020-05-19\", \"2020-05-20\", \"2020-05-21\", \"2020-05-22\", \"2020-05-23\", \\\n",
    "#                     \"2020-05-24\", \"2020-05-26\", \"2020-05-27\", \"2020-05-28\"]\n",
    "\n",
    "#dates_of_interest = [\"2020-05-01\", \"2020-05-02\", \"2020-05-03\", \"2020-05-04\", \"2020-05-05\", \"2020-05-06\", \"2020-05-07\", \\\n",
    "#                     \"2020-05-08\"]\n",
    "\n",
    "dates_of_interest = [\"2020-05-25\", \"2020-05-26\", \"2020-05-27\", \"2020-05-28\", \"2020-05-29\", \"2020-05-30\", \"2020-05-31\", \\\n",
    "                     \"2020-06-01\", \"2020-06-02\", \"2020-06-03\", \"2020-06-04\", \"2020-06-05\", \"2020-06-06\", \"2020-06-07\", \\\n",
    "                     \"2020-06-08\", \"2020-06-09\", \"2020-06-10\", \"2020-06-11\", \"2020-06-12\", \"2020-06-13\", \"2020-06-14\"]\n",
    "\n",
    "data = {}\n",
    "for fips in all_fips:\n",
    "    data[fips] = {}\n",
    "    predictions = make_predictions(fips, \"2020-03-30\", \"2020-05-24\", 21)\n",
    "    \n",
    "    for i, date in enumerate(dates_of_interest):\n",
    "        data[fips][date] = generate_quantiles(predictions[i])"
   ]
  },
  {
   "cell_type": "markdown",
   "metadata": {},
   "source": [
    "<h1>Export the Submission to a CSV for Scoring</h1>"
   ]
  },
  {
   "cell_type": "code",
   "execution_count": 12,
   "metadata": {},
   "outputs": [],
   "source": [
    "lists = []\n",
    "for row_id in get_id_list():\n",
    "    date = extract_date_from_id(row_id)\n",
    "    fips = int(extract_fips_from_id(row_id))\n",
    "    \n",
    "    if not fips in data:\n",
    "        lst = [row_id] + [\"%.2f\" % 0.00] * 9\n",
    "        lists.append(lst)\n",
    "        continue\n",
    "        \n",
    "    if not date in data[fips]:\n",
    "        lst = [row_id] + [\"%.2f\" % 0.00] * 9\n",
    "        lists.append(lst)\n",
    "        continue\n",
    "    \n",
    "    quantiles = data[fips][date]\n",
    "    lst = [row_id]\n",
    "\n",
    "    for q in quantiles:\n",
    "        if str(q) == \"nan\":\n",
    "            lst.append(\"%.2f\" % 0.00)\n",
    "        elif q < 0:\n",
    "            lst.append(\"%.2f\" % 0.00)\n",
    "        else:\n",
    "            lst.append(\"%.2f\" % q)\n",
    "            \n",
    "    lists.append(lst)\n",
    "    \n",
    "df = pd.DataFrame(lists, columns=sample_submission.columns)\n",
    "df.to_csv(\"../Residual Neural Net/curve_for_residuals_train.csv\", index=False, sep=',')"
   ]
  },
  {
   "cell_type": "code",
   "execution_count": 16,
   "metadata": {},
   "outputs": [
    {
     "data": {
      "image/png": "[encoded data removed]",
      "text/plain": [
       "<Figure size 432x288 with 1 Axes>"
      ]
     },
     "metadata": {
      "needs_background": "light"
     },
     "output_type": "display_data"
    }
   ],
   "source": [
    "util.plot_list(util.get_cases_list(6059, \"2020-05-11\")[-60:])"
   ]
  },
  {
   "cell_type": "code",
   "execution_count": 5,
   "metadata": {},
   "outputs": [],
   "source": [
    "age_data = pd.read_csv(\"../data/us/advanced_age_data/PEP_2018_PEPAGESEX_with_ann.csv\", encoding='latin1', low_memory=False)"
   ]
  },
  {
   "cell_type": "code",
   "execution_count": 6,
   "metadata": {},
   "outputs": [
    {
     "name": "stdout",
     "output_type": "stream",
     "text": [
      "1.7671050938629678\n"
     ]
    }
   ],
   "source": [
    "column_weight_map = {\n",
    "    \"est72017sex0_age0to4\": 0,\n",
    "    \"est72017sex0_age5to9\": 0,\n",
    "    \"est72017sex0_age10to14\": 0.2,\n",
    "    \"est72017sex0_age15to19\": 0.2,\n",
    "    \"est72017sex0_age20to24\": 0.2,\n",
    "    \"est72017sex0_age25to29\": 0.2,\n",
    "    \"est72017sex0_age30to34\": 0.2,\n",
    "    \"est72017sex0_age35to39\": 0.2,\n",
    "    \"est72017sex0_age40to44\": 0.4,\n",
    "    \"est72017sex0_age45to49\": 0.4,\n",
    "    \"est72017sex0_age50to54\": 1.3,\n",
    "    \"est72017sex0_age55to59\": 1.3,\n",
    "    \"est72017sex0_age60to64\": 3.6,\n",
    "    \"est72017sex0_age65to69\": 3.6,\n",
    "    \"est72017sex0_age70to74\": 8.0,\n",
    "    \"est72017sex0_age75to79\": 8.0,\n",
    "    \"est72017sex0_age80to84\": 14.8,\n",
    "    \"est72018sex2_age85plus\": 14.8\n",
    "}\n",
    "\n",
    "total_pop = 0\n",
    "FIPS = \"36061\"\n",
    "\n",
    "for name in column_weight_map:\n",
    "    total_pop += int(age_data.loc[age_data[\"GEO.id2\"] == FIPS][name].values[0])\n",
    "    \n",
    "death_rate = 0\n",
    "for name in column_weight_map:\n",
    "    pop = int(age_data.loc[age_data[\"GEO.id2\"] == FIPS][name].values[0])\n",
    "    death_rate += (pop / total_pop) * column_weight_map[name]\n",
    "\n",
    "print(death_rate)"
   ]
  },
  {
   "cell_type": "code",
   "execution_count": 12,
   "metadata": {},
   "outputs": [
    {
     "name": "stdout",
     "output_type": "stream",
     "text": [
      "71660.0\n"
     ]
    }
   ],
   "source": [
    "pop = int(age_data.loc[age_data[\"GEO.id2\"] == FIPS][\"est72017sex0_age80to84\"].values[0])\n",
    "pop += int(age_data.loc[age_data[\"GEO.id2\"] == FIPS][\"est72017sex0_age85plus\"].values[0])\n",
    "print((pop / total_pop) * total_pop)"
   ]
  },
  {
   "cell_type": "code",
   "execution_count": 13,
   "metadata": {},
   "outputs": [
    {
     "data": {
      "image/png": "[encoded data removed]",
      "text/plain": [
       "<Figure size 432x288 with 1 Axes>"
      ]
     },
     "metadata": {
      "needs_background": "light"
     },
     "output_type": "display_data"
    }
   ],
   "source": [
    "preds = make_predictions(36061, \"2020-03-30\", \"2020-05-22\", 18)\n",
    "util.plot_list(preds)"
   ]
  },
  {
   "cell_type": "code",
   "execution_count": 18,
   "metadata": {},
   "outputs": [
    {
     "data": {
      "image/png": "[encoded data removed]",
      "text/plain": [
       "<Figure size 432x288 with 1 Axes>"
      ]
     },
     "metadata": {
      "needs_background": "light"
     },
     "output_type": "display_data"
    },
    {
     "name": "stdout",
     "output_type": "stream",
     "text": [
      "[ 2. 10.  8.  0.  2.  3.  5.  6.  5.  6.  6.  1. 14.  0.]\n"
     ]
    }
   ],
   "source": [
    "fips = 48113\n",
    "\n",
    "util.plot_list(util.get_deaths_list(fips, endDate=\"2020-05-20\")[-14:])\n",
    "print(util.get_deaths_list(fips, endDate=\"2020-05-20\")[-14:])"
   ]
  },
  {
   "cell_type": "code",
   "execution_count": null,
   "metadata": {},
   "outputs": [],
   "source": []
  }
 ],
 "metadata": {
  "kernelspec": {
   "display_name": "Python 3",
   "language": "python",
   "name": "python3"
  },
  "language_info": {
   "codemirror_mode": {
    "name": "ipython",
    "version": 3
   },
   "file_extension": ".py",
   "mimetype": "text/x-python",
   "name": "python",
   "nbconvert_exporter": "python",
   "pygments_lexer": "ipython3",
   "version": "3.7.6"
  }
 },
 "nbformat": 4,
 "nbformat_minor": 4
}
