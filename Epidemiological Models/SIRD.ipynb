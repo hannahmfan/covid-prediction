{
 "cells": [
  {
   "cell_type": "markdown",
   "metadata": {},
   "source": [
    "# SIR Epidemiological Model"
   ]
  },
  {
   "cell_type": "code",
   "execution_count": 1,
   "metadata": {},
   "outputs": [],
   "source": [
    "import numpy as np\n",
    "from scipy.integrate import odeint\n",
    "import matplotlib.pyplot as plt\n",
    "import pandas as pd\n",
    "import math\n",
    "from hyperopt import fmin, tpe, STATUS_OK, STATUS_FAIL, Trials, hp\n",
    "import datetime"
   ]
  },
  {
   "cell_type": "markdown",
   "metadata": {},
   "source": [
    "## Basic SIRD"
   ]
  },
  {
   "cell_type": "code",
   "execution_count": 2,
   "metadata": {},
   "outputs": [],
   "source": [
    "population = pd.read_csv(\"data/us/demographics/county_populations.csv\")\n",
    "nyt_data = pd.read_csv(\"data/us/covid/nyt_us_counties_daily.csv\")"
   ]
  },
  {
   "cell_type": "code",
   "execution_count": 85,
   "metadata": {},
   "outputs": [
    {
     "data": {
      "text/html": [
       "<div>\n",
       "<style scoped>\n",
       "    .dataframe tbody tr th:only-of-type {\n",
       "        vertical-align: middle;\n",
       "    }\n",
       "\n",
       "    .dataframe tbody tr th {\n",
       "        vertical-align: top;\n",
       "    }\n",
       "\n",
       "    .dataframe thead th {\n",
       "        text-align: right;\n",
       "    }\n",
       "</style>\n",
       "<table border=\"1\" class=\"dataframe\">\n",
       "  <thead>\n",
       "    <tr style=\"text-align: right;\">\n",
       "      <th></th>\n",
       "      <th>FIPS</th>\n",
       "      <th>total_pop</th>\n",
       "      <th>60plus</th>\n",
       "    </tr>\n",
       "  </thead>\n",
       "  <tbody>\n",
       "    <tr>\n",
       "      <th>0</th>\n",
       "      <td>1001</td>\n",
       "      <td>55036</td>\n",
       "      <td>10523</td>\n",
       "    </tr>\n",
       "  </tbody>\n",
       "</table>\n",
       "</div>"
      ],
      "text/plain": [
       "   FIPS  total_pop  60plus\n",
       "0  1001      55036   10523"
      ]
     },
     "execution_count": 85,
     "metadata": {},
     "output_type": "execute_result"
    }
   ],
   "source": [
    "population.head(1)"
   ]
  },
  {
   "cell_type": "code",
   "execution_count": 86,
   "metadata": {},
   "outputs": [
    {
     "data": {
      "text/html": [
       "<div>\n",
       "<style scoped>\n",
       "    .dataframe tbody tr th:only-of-type {\n",
       "        vertical-align: middle;\n",
       "    }\n",
       "\n",
       "    .dataframe tbody tr th {\n",
       "        vertical-align: top;\n",
       "    }\n",
       "\n",
       "    .dataframe thead th {\n",
       "        text-align: right;\n",
       "    }\n",
       "</style>\n",
       "<table border=\"1\" class=\"dataframe\">\n",
       "  <thead>\n",
       "    <tr style=\"text-align: right;\">\n",
       "      <th></th>\n",
       "      <th>fips</th>\n",
       "      <th>date</th>\n",
       "      <th>county</th>\n",
       "      <th>state</th>\n",
       "      <th>cases</th>\n",
       "      <th>deaths</th>\n",
       "    </tr>\n",
       "  </thead>\n",
       "  <tbody>\n",
       "    <tr>\n",
       "      <th>0</th>\n",
       "      <td>53061</td>\n",
       "      <td>2020-01-21</td>\n",
       "      <td>Snohomish</td>\n",
       "      <td>Washington</td>\n",
       "      <td>1.0</td>\n",
       "      <td>0.0</td>\n",
       "    </tr>\n",
       "  </tbody>\n",
       "</table>\n",
       "</div>"
      ],
      "text/plain": [
       "    fips        date     county       state  cases  deaths\n",
       "0  53061  2020-01-21  Snohomish  Washington    1.0     0.0"
      ]
     },
     "execution_count": 86,
     "metadata": {},
     "output_type": "execute_result"
    }
   ],
   "source": [
    "nyt_data.head(1)"
   ]
  },
  {
   "cell_type": "code",
   "execution_count": 196,
   "metadata": {},
   "outputs": [],
   "source": [
    "fips = 6037\n",
    "pop = int(population.loc[population[\"FIPS\"] == fips][\"total_pop\"])\n",
    "df = nyt_data.loc[nyt_data[\"fips\"] == fips]\n",
    "df.reset_index(inplace=True)"
   ]
  },
  {
   "cell_type": "code",
   "execution_count": 197,
   "metadata": {},
   "outputs": [],
   "source": [
    "# Find first cases\n",
    "infection_start = df.loc[df[\"cases\"] > 0].first_valid_index()\n",
    "start_date = df.iloc[infection_start][\"date\"]"
   ]
  },
  {
   "cell_type": "code",
   "execution_count": 198,
   "metadata": {},
   "outputs": [],
   "source": [
    "# Initial number of susceptible, infectious, recovered, deceased\n",
    "inf_init = df.iloc[infection_start][\"cases\"]\n",
    "rec_init = 0\n",
    "dec_init = df.iloc[infection_start][\"deaths\"]\n",
    "sus_init = pop - inf_init - rec_init - dec_init"
   ]
  },
  {
   "cell_type": "code",
   "execution_count": 231,
   "metadata": {},
   "outputs": [],
   "source": [
    "beta = 0.19 # Infection rate\n",
    "gamma = 1./14 # Recovery rate\n",
    "mu = 1./60 # Mortality rate"
   ]
  },
  {
   "cell_type": "code",
   "execution_count": 232,
   "metadata": {},
   "outputs": [],
   "source": [
    "t = np.linspace(0, len(df), len(df))"
   ]
  },
  {
   "cell_type": "code",
   "execution_count": 9,
   "metadata": {},
   "outputs": [],
   "source": [
    "def get_derivatives(y, t, N, beta, gamma, mu):\n",
    "    S, I, R, D = y\n",
    "    dSdt = - beta * I * S / N\n",
    "    dIdt = beta * I * S / N - gamma * I - mu * I\n",
    "    dRdt = gamma * I\n",
    "    dDdt = mu * I\n",
    "    return dSdt, dIdt, dRdt, dDdt"
   ]
  },
  {
   "cell_type": "code",
   "execution_count": 234,
   "metadata": {},
   "outputs": [],
   "source": [
    "y_init = sus_init, inf_init, rec_init, dec_init"
   ]
  },
  {
   "cell_type": "code",
   "execution_count": 235,
   "metadata": {},
   "outputs": [],
   "source": [
    "# Integrate over the time space\n",
    "res = odeint(get_derivatives, y_init, t, args=(pop, beta, gamma, mu))"
   ]
  },
  {
   "cell_type": "code",
   "execution_count": 236,
   "metadata": {},
   "outputs": [],
   "source": [
    "S, I, R, D = res.T"
   ]
  },
  {
   "cell_type": "code",
   "execution_count": 237,
   "metadata": {},
   "outputs": [
    {
     "name": "stderr",
     "output_type": "stream",
     "text": [
      "/usr/local/lib/python3.7/site-packages/ipykernel_launcher.py:2: SettingWithCopyWarning: \n",
      "A value is trying to be set on a copy of a slice from a DataFrame.\n",
      "Try using .loc[row_indexer,col_indexer] = value instead\n",
      "\n",
      "See the caveats in the documentation: https://pandas.pydata.org/pandas-docs/stable/user_guide/indexing.html#returning-a-view-versus-a-copy\n",
      "  \n",
      "/usr/local/lib/python3.7/site-packages/pandas/core/indexing.py:965: SettingWithCopyWarning: \n",
      "A value is trying to be set on a copy of a slice from a DataFrame.\n",
      "Try using .loc[row_indexer,col_indexer] = value instead\n",
      "\n",
      "See the caveats in the documentation: https://pandas.pydata.org/pandas-docs/stable/user_guide/indexing.html#returning-a-view-versus-a-copy\n",
      "  self.obj[item] = s\n"
     ]
    }
   ],
   "source": [
    "# Combine predictions and data to plot\n",
    "df[\"S\"], df[\"I\"], df[\"R\"], df[\"D\"], df[\"c_deaths\"], df[\"c_cases\"], df[\"C\"] = 0, 0, 0, 0, 0, 0, 0\n",
    "for i, row in df.iterrows():\n",
    "    df.loc[i, \"S\"] = S[i]\n",
    "    df.loc[i, \"I\"] = I[i]\n",
    "    df.loc[i, \"R\"] = R[i]\n",
    "    df.loc[i, \"D\"] = D[i]\n",
    "    \n",
    "    try:\n",
    "        df.at[i, \"C\"] = df.loc[i, \"I\"] + df.loc[i, \"R\"]\n",
    "        df.at[i, \"c_deaths\"] = df.loc[i - 1, \"c_deaths\"] + df.loc[i, \"deaths\"]\n",
    "        df.at[i, \"c_cases\"] = df.loc[i - 1, \"c_cases\"] + df.loc[i, \"cases\"]\n",
    "    except Exception as e:\n",
    "        df.at[i, \"C\"] = df.loc[i, \"I\"] + df.loc[i, \"R\"]\n",
    "        df.at[i, \"c_deaths\"] = df.loc[i, \"deaths\"]\n",
    "        df.at[i, \"c_cases\"] = df.loc[i, \"cases\"]"
   ]
  },
  {
   "cell_type": "code",
   "execution_count": 238,
   "metadata": {},
   "outputs": [
    {
     "name": "stderr",
     "output_type": "stream",
     "text": [
      "/usr/local/lib/python3.7/site-packages/ipykernel_launcher.py:6: RuntimeWarning: Second argument 'C' is ambiguous: could be a color spec but is in data; using as data.  Either rename the entry in data or use three arguments to plot.\n",
      "  \n",
      "/usr/local/lib/python3.7/site-packages/ipykernel_launcher.py:7: RuntimeWarning: Second argument 'D' is ambiguous: could be a color spec but is in data; using as data.  Either rename the entry in data or use three arguments to plot.\n",
      "  import sys\n"
     ]
    },
    {
     "data": {
      "image/png": "[encoded data removed]",
      "text/plain": [
       "<Figure size 432x288 with 1 Axes>"
      ]
     },
     "metadata": {
      "needs_background": "light"
     },
     "output_type": "display_data"
    }
   ],
   "source": [
    "# Plot the results vs. the actual data\n",
    "fig, ax = plt.subplots()\n",
    "ax.plot('date', 'c_deaths', data=df, label=\"Actual Cumulative Deaths\")\n",
    "ax.plot('date', 'c_cases', data=df, label=\"Actual Cumulative Cases\")\n",
    "#ax.plot('date', 'S', data=df, label=\"SIRD Susceptible\")\n",
    "ax.plot('date', 'C', data=df, label=\"SIRD Infected + Recovered\")\n",
    "ax.plot('date', 'D', data=df, label=\"SIRD Deceased\")\n",
    "plt.title(\"SIRD Model for LA County\")\n",
    "plt.legend()\n",
    "plt.show()"
   ]
  },
  {
   "cell_type": "markdown",
   "metadata": {},
   "source": [
    "## Finding Better Parameters with HyperOpt"
   ]
  },
  {
   "cell_type": "code",
   "execution_count": 261,
   "metadata": {},
   "outputs": [],
   "source": [
    "def SIRD_rmse(S, I, R, D, df):\n",
    "    case_err, death_err, c_case_err, c_death_err = 0, 0, 0, 0\n",
    "    for i, row in df.iterrows():\n",
    "        if i == 0:\n",
    "            this_cases = I[i] + R[i]\n",
    "            this_deaths = D[i]\n",
    "        else:\n",
    "            this_cases = I[i] - I[i-1] + R[i] - R[i-1]\n",
    "            this_deaths = D[i] - D[i-1]\n",
    "            \n",
    "        case_err += (row[\"cases\"] - this_cases) ** 2\n",
    "        death_err += (row[\"deaths\"] - this_deaths) ** 2\n",
    "        c_case_err += (row[\"c_cases\"] - I[i]- R[i]) ** 2\n",
    "        c_death_err += (row[\"c_deaths\"] - D[i]) ** 2\n",
    "    \n",
    "    case_err /= len(S)\n",
    "    death_err /= len(S)\n",
    "    \n",
    "    return math.sqrt(death_err)# + math.sqrt(c_death_err) / 2"
   ]
  },
  {
   "cell_type": "code",
   "execution_count": 231,
   "metadata": {},
   "outputs": [],
   "source": [
    "class HyperOpt(object):\n",
    "    def __init__(self, population, data, y_init, timespace):\n",
    "        self.data = data.copy()\n",
    "        self.data.reset_index(inplace=True)\n",
    "        self.y_init = y_init\n",
    "        self.pop = population\n",
    "        self.t = timespace\n",
    "    \n",
    "    def eval_sird(self, params):\n",
    "        result = odeint(get_derivatives, self.y_init, self.t, args=(self.pop, params[\"beta\"], params[\"gamma\"], params[\"mu\"]))\n",
    "        S, I, R, D = result.T\n",
    "        rmse = SIRD_rmse(S, I, R, D, self.data)\n",
    "        return rmse\n",
    "    \n",
    "    def optimize_params(self, space, trials, algo, max_evals):\n",
    "        result = fmin(fn=self.eval_sird, space=space, algo=algo, max_evals=max_evals, trials=trials, verbose=False)\n",
    "        return result, trials"
   ]
  },
  {
   "cell_type": "code",
   "execution_count": 232,
   "metadata": {},
   "outputs": [
    {
     "name": "stdout",
     "output_type": "stream",
     "text": [
      "80\n"
     ]
    },
    {
     "name": "stderr",
     "output_type": "stream",
     "text": [
      "/usr/local/lib/python3.7/site-packages/ipykernel_launcher.py:5: SettingWithCopyWarning: \n",
      "A value is trying to be set on a copy of a slice from a DataFrame.\n",
      "Try using .loc[row_indexer,col_indexer] = value instead\n",
      "\n",
      "See the caveats in the documentation: https://pandas.pydata.org/pandas-docs/stable/user_guide/indexing.html#returning-a-view-versus-a-copy\n",
      "  \"\"\"\n"
     ]
    }
   ],
   "source": [
    "fips = 17031\n",
    "pop = int(population.loc[population[\"FIPS\"] == fips][\"total_pop\"])\n",
    "df = nyt_data.loc[nyt_data[\"fips\"] == fips]\n",
    "df.reset_index(inplace=True)\n",
    "df[\"c_deaths\"], df[\"c_cases\"] = 0, 0\n",
    "for i, row in df.iterrows():   \n",
    "    try:\n",
    "        df.at[i, \"c_deaths\"] = df.loc[i - 1, \"c_deaths\"] + df.loc[i, \"deaths\"]\n",
    "        df.at[i, \"c_cases\"] = df.loc[i - 1, \"c_cases\"] + df.loc[i, \"cases\"]\n",
    "    except Exception as e:\n",
    "        df.at[i, \"c_deaths\"] = df.loc[i, \"deaths\"]\n",
    "        df.at[i, \"c_cases\"] = df.loc[i, \"cases\"]\n",
    "\n",
    "# Find first cases\n",
    "infection_start = df.loc[df[\"cases\"] > 0].first_valid_index()\n",
    "start_date = df.iloc[infection_start][\"date\"]\n",
    "\n",
    "# Initial number of susceptible, infectious, recovered, deceased\n",
    "inf_init = df.iloc[infection_start][\"cases\"]\n",
    "rec_init = 0\n",
    "dec_init = df.iloc[infection_start][\"deaths\"]\n",
    "sus_init = pop - inf_init - rec_init - dec_init\n",
    "y_init = sus_init, inf_init, rec_init, dec_init\n",
    "\n",
    "t = np.linspace(0, len(df)-14-infection_start, len(df)-14-infection_start)\n",
    "\n",
    "print (len(t))"
   ]
  },
  {
   "cell_type": "code",
   "execution_count": 233,
   "metadata": {},
   "outputs": [],
   "source": [
    "param_space = {\n",
    "    \"beta\": hp.uniform(\"beta\", 0.1, 0.3),\n",
    "    \"gamma\": hp.uniform(\"gamma\", 0.05, 0.1),\n",
    "    \"mu\": hp.uniform(\"mu\", 0.02, 0.03)\n",
    "}"
   ]
  },
  {
   "cell_type": "code",
   "execution_count": 234,
   "metadata": {},
   "outputs": [],
   "source": [
    "hopt = HyperOpt(pop, df[infection_start:-14], y_init, t)"
   ]
  },
  {
   "cell_type": "code",
   "execution_count": 235,
   "metadata": {},
   "outputs": [
    {
     "name": "stdout",
     "output_type": "stream",
     "text": [
      "Best parameters:\n",
      " {'beta': 0.16981106638090634, 'gamma': 0.051709218606616605, 'mu': 0.025787173135665427}\n"
     ]
    }
   ],
   "source": [
    "optimized, trials = hopt.optimize_params(space=param_space, trials=Trials(), algo=tpe.suggest, max_evals=100)\n",
    "print(\"Best parameters:\\n\", optimized)"
   ]
  },
  {
   "cell_type": "code",
   "execution_count": 1,
   "metadata": {},
   "outputs": [
    {
     "ename": "NameError",
     "evalue": "name 'pop' is not defined",
     "output_type": "error",
     "traceback": [
      "\u001b[0;31m---------------------------------------------------------------------------\u001b[0m",
      "\u001b[0;31mNameError\u001b[0m                                 Traceback (most recent call last)",
      "\u001b[0;32m<ipython-input-1-d378a6a05069>\u001b[0m in \u001b[0;36m<module>\u001b[0;34m\u001b[0m\n\u001b[1;32m      1\u001b[0m \u001b[0;31m# Plot the results\u001b[0m\u001b[0;34m\u001b[0m\u001b[0;34m\u001b[0m\u001b[0;34m\u001b[0m\u001b[0m\n\u001b[1;32m      2\u001b[0m \u001b[0;31m#max_deaths = nyt_data[\"deaths\"][:-14].max()\u001b[0m\u001b[0;34m\u001b[0m\u001b[0;34m\u001b[0m\u001b[0;34m\u001b[0m\u001b[0m\n\u001b[0;32m----> 3\u001b[0;31m \u001b[0mmax_deaths\u001b[0m \u001b[0;34m=\u001b[0m \u001b[0;36m0.0003\u001b[0m \u001b[0;34m*\u001b[0m \u001b[0mpop\u001b[0m\u001b[0;34m\u001b[0m\u001b[0;34m\u001b[0m\u001b[0m\n\u001b[0m\u001b[1;32m      4\u001b[0m \u001b[0;34m\u001b[0m\u001b[0m\n\u001b[1;32m      5\u001b[0m \u001b[0mt\u001b[0m \u001b[0;34m=\u001b[0m \u001b[0mnp\u001b[0m\u001b[0;34m.\u001b[0m\u001b[0mlinspace\u001b[0m\u001b[0;34m(\u001b[0m\u001b[0;36m0\u001b[0m\u001b[0;34m,\u001b[0m \u001b[0mlen\u001b[0m\u001b[0;34m(\u001b[0m\u001b[0mdf\u001b[0m\u001b[0;34m)\u001b[0m\u001b[0;34m,\u001b[0m \u001b[0mlen\u001b[0m\u001b[0;34m(\u001b[0m\u001b[0mdf\u001b[0m\u001b[0;34m)\u001b[0m\u001b[0;34m)\u001b[0m\u001b[0;34m\u001b[0m\u001b[0;34m\u001b[0m\u001b[0m\n",
      "\u001b[0;31mNameError\u001b[0m: name 'pop' is not defined"
     ]
    }
   ],
   "source": [
    "# Plot the results\n",
    "max_deaths = nyt_data[\"deaths\"][:-14].max()\n",
    "\n",
    "t = np.linspace(0, len(df), len(df))\n",
    "res = odeint(get_derivatives, y_init, t, args=(pop, optimized[\"beta\"], optimized[\"gamma\"], optimized[\"mu\"]))\n",
    "S, I, R, D = res.T\n",
    "\n",
    "df[\"S\"], df[\"I\"], df[\"R\"], df[\"D\"], df[\"D_diff\"], df[\"c_deaths\"], df[\"c_cases\"], df[\"C\"] = 0, 0, 0, 0, 0, 0, 0, 0\n",
    "for i, row in df.iterrows():\n",
    "    if i < infection_start:\n",
    "        df.loc[i, \"S\"] = 0\n",
    "        df.loc[i, \"I\"] = 0\n",
    "        df.loc[i, \"R\"] = 0\n",
    "        df.loc[i, \"D\"] = 0\n",
    "        df.loc[i, \"D_diff\"] = 0\n",
    "    else:\n",
    "        df.loc[i, \"S\"] = S[i-infection_start]\n",
    "        df.loc[i, \"I\"] = I[i-infection_start]\n",
    "        df.loc[i, \"R\"] = R[i-infection_start]\n",
    "        df.loc[i, \"D\"] = D[i-infection_start]\n",
    "        if i == infection_start:\n",
    "            df.loc[i, \"D_diff\"] = D[i-infection_start]\n",
    "        else:\n",
    "            df.loc[i, \"D_diff\"] = D[i-infection_start] - D[i-1-infection_start]\n",
    "    \n",
    "    try:\n",
    "        df.at[i, \"C\"] = df.loc[i, \"I\"] + df.loc[i, \"R\"]\n",
    "        df.at[i, \"c_deaths\"] = df.loc[i - 1, \"c_deaths\"] + df.loc[i, \"deaths\"]\n",
    "        df.at[i, \"c_cases\"] = df.loc[i - 1, \"c_cases\"] + df.loc[i, \"cases\"]\n",
    "    except Exception as e:\n",
    "        df.at[i, \"C\"] = df.loc[i, \"I\"] + df.loc[i, \"R\"]\n",
    "        df.at[i, \"c_deaths\"] = df.loc[i, \"deaths\"]\n",
    "        df.at[i, \"c_cases\"] = df.loc[i, \"cases\"]\n",
    "\n",
    "df[\"D_diff\"].clip(lower=0, upper=max_deaths, inplace=True)\n",
    "        \n",
    "fig, ax = plt.subplots()\n",
    "ax.plot('date', 'deaths', data=df[:-14], label='Actual Deaths per Day (Training)')\n",
    "ax.plot('date', 'deaths', data=df[-14:], label='Actual Deaths per Day (Testing)')\n",
    "ax.plot('date', 'D_diff', data=df, label='SIRD Deceased w/ Differencing')\n",
    "#ax.plot('date', 'c_deaths', data=df, label=\"Actual Cumulative Deaths\")\n",
    "#ax.plot('date', 'c_cases', data=df, label=\"Actual Cumulative Cases\")\n",
    "#ax.plot('date', 'S', data=df, label=\"SIRD Susceptible\")\n",
    "#ax.plot('date', 'C', data=df, label=\"SIRD Infected + Recovered\")\n",
    "#ax.plot('date', 'D', data=df, label=\"SIRD Deceased\")\n",
    "plt.title(\"SIRD Model vs. Actual Data\")\n",
    "plt.legend()\n",
    "plt.show()"
   ]
  },
  {
   "cell_type": "markdown",
   "metadata": {},
   "source": [
    "# Generating a Submission with SIRD"
   ]
  },
  {
   "cell_type": "code",
   "execution_count": 262,
   "metadata": {},
   "outputs": [],
   "source": [
    "fips_list = pd.read_csv(\"data/us/processing_data/fips_key.csv\", encoding=\"cp1252\")"
   ]
  },
  {
   "cell_type": "code",
   "execution_count": 263,
   "metadata": {},
   "outputs": [],
   "source": [
    "test_per = 14\n",
    "pred_per = 0"
   ]
  },
  {
   "cell_type": "code",
   "execution_count": 264,
   "metadata": {},
   "outputs": [],
   "source": [
    "ids, i10, i20, i30, i40, i50, i60, i70, i80, i90 = [], [], [], [], [], [], [], [], [], []\n",
    "z_80 = 1.28\n",
    "z_60 = 0.84\n",
    "z_40 = 0.525\n",
    "z_20 = 0.25"
   ]
  },
  {
   "cell_type": "code",
   "execution_count": 299,
   "metadata": {},
   "outputs": [
    {
     "name": "stdout",
     "output_type": "stream",
     "text": [
      "2020-05-05 19:42:41.208393\n",
      "\n",
      "County 78030...\n",
      "2020-05-05 19:47:18.556757\n"
     ]
    }
   ],
   "source": [
    "print(str(datetime.datetime.now())+\"\\n\")\n",
    "\n",
    "max_deaths = 750\n",
    "\n",
    "for idx, row in fips_list.iterrows():\n",
    "    county = int(row[\"FIPS\"])\n",
    "    print(\"County \" + str(county) + \"...\", end='\\r', flush=True)\n",
    "        \n",
    "    df = nyt_data.loc[nyt_data[\"fips\"] == county][:-test_per]\n",
    "    df.reset_index(inplace=True)\n",
    "    df[\"c_deaths\"], df[\"c_cases\"] = 0, 0\n",
    "    for i, row in df.iterrows():   \n",
    "        try:\n",
    "            df.at[i, \"c_deaths\"] = df.loc[i - 1, \"c_deaths\"] + df.loc[i, \"deaths\"]\n",
    "            df.at[i, \"c_cases\"] = df.loc[i - 1, \"c_cases\"] + df.loc[i, \"cases\"]\n",
    "        except Exception as e:\n",
    "            df.at[i, \"c_deaths\"] = df.loc[i, \"deaths\"]\n",
    "            df.at[i, \"c_cases\"] = df.loc[i, \"cases\"]\n",
    "    \n",
    "    try: \n",
    "        cum_deaths = df.iloc[-1][\"c_deaths\"]\n",
    "    except IndexError as e:\n",
    "        if len(df) == 0:\n",
    "            #print(\"No data found for county\", str(county), \":\", row[\"COUNTY\"])\n",
    "            continue\n",
    "        else:\n",
    "            cum_deaths = 0\n",
    "        \n",
    "    if cum_deaths >= 15:\n",
    "        try:\n",
    "            pop = int(population.loc[population[\"FIPS\"] == county][\"total_pop\"])\n",
    "        except TypeError as e:\n",
    "            print(\"No population found for county\", str(county), \":\", row[\"COUNTY\"])\n",
    "            print(\"This county has at least 15 cumulative deaths!\")\n",
    "            raise e\n",
    "            \n",
    "        # Find first cases\n",
    "        infection_start = df.loc[df[\"cases\"] > 0].first_valid_index()\n",
    "        start_date = df.iloc[infection_start][\"date\"]\n",
    "\n",
    "        # Initial number of susceptible, infectious, recovered, deceased\n",
    "        inf_init = df.iloc[infection_start][\"cases\"]\n",
    "        rec_init = 0\n",
    "        dec_init = df.iloc[infection_start][\"deaths\"]\n",
    "        sus_init = pop - inf_init - rec_init - dec_init\n",
    "        y_init = sus_init, inf_init, rec_init, dec_init\n",
    "\n",
    "        t = np.linspace(0, len(df)-infection_start, len(df)-infection_start)\n",
    "\n",
    "        param_space = {\n",
    "            \"beta\": hp.uniform(\"beta\", 0, 1),\n",
    "            \"gamma\": hp.uniform(\"gamma\", 0, 1),\n",
    "            \"mu\": hp.uniform(\"mu\", 0, 1)\n",
    "        }\n",
    "\n",
    "        hopt = HyperOpt(pop, df[infection_start:], y_init, t)\n",
    "        optimized, trials = hopt.optimize_params(space=param_space, trials=Trials(), algo=tpe.suggest, max_evals=100)\n",
    "\n",
    "        t = np.linspace(0, len(df) + test_per + pred_per, len(df) + test_per + pred_per)\n",
    "        res = odeint(get_derivatives, y_init, t, args=(pop, optimized[\"beta\"], optimized[\"gamma\"], optimized[\"mu\"]))\n",
    "        S, I, R, D = res.T\n",
    "\n",
    "        date = datetime.date.fromisoformat(df.iloc[0][\"date\"]) + datetime.timedelta(days=int(infection_start))\n",
    "        for i, ddata in enumerate(D):\n",
    "            this_id = date.isoformat() + \"-\" + str(county)\n",
    "            date += datetime.timedelta(days=1)\n",
    "\n",
    "            if i == 0:\n",
    "                mid = ddata\n",
    "            else:\n",
    "                mid = ddata - D[i - 1]\n",
    "                \n",
    "            if mid > max_deaths: mid = max_deaths\n",
    "            \n",
    "            sd = 3 * math.sqrt(mid)\n",
    "\n",
    "            ids.append(this_id)\n",
    "            i10.append(mid - sd * z_80)\n",
    "            i20.append(mid - sd * z_60)\n",
    "            i30.append(mid - sd * z_40)\n",
    "            i40.append(mid - sd * z_20)\n",
    "            i50.append(mid)\n",
    "            i60.append(mid + sd * z_20)\n",
    "            i70.append(mid + sd * z_40)\n",
    "            i80.append(mid + sd * z_60)\n",
    "            i90.append(mid + sd * z_80)\n",
    "    \n",
    "    else:\n",
    "        date = datetime.date.fromisoformat(df.iloc[0][\"date\"])\n",
    "        for i in range(len(df) + test_per + pred_per):\n",
    "            this_id = date.isoformat() + \"-\" + str(county)\n",
    "            date += datetime.timedelta(days=1)\n",
    "            \n",
    "            ids.append(this_id)\n",
    "            i10.append(0)\n",
    "            i20.append(0)\n",
    "            i30.append(0)\n",
    "            i40.append(0)\n",
    "            i50.append(0)\n",
    "            i60.append(0)\n",
    "            i70.append(0)\n",
    "            i80.append(0)\n",
    "            i90.append(0)\n",
    "\n",
    "print(\"\\n\" + str(datetime.datetime.now()))\n"
   ]
  },
  {
   "cell_type": "code",
   "execution_count": 300,
   "metadata": {},
   "outputs": [],
   "source": [
    "predictions = pd.DataFrame(data={\"id\":ids, \"10\":i10, \"20\":i20, \"30\":i30, \"40\":i40, \"50\":i50, \"60\":i60, \"70\":i70, \"80\":i80, \"90\":i90})"
   ]
  },
  {
   "cell_type": "code",
   "execution_count": 301,
   "metadata": {},
   "outputs": [],
   "source": [
    "predictions[\"10\"] = predictions[\"10\"].apply(lambda x: x if x >= 1 else 0)\n",
    "predictions[\"20\"] = predictions[\"20\"].apply(lambda x: x if x >= 1 else 0)\n",
    "predictions[\"30\"] = predictions[\"30\"].apply(lambda x: x if x >= 1 else 0)\n",
    "predictions[\"40\"] = predictions[\"40\"].apply(lambda x: x if x >= 1 else 0)\n",
    "predictions[\"50\"] = predictions[\"50\"].apply(lambda x: x if x >= 1 else 0)\n",
    "predictions[\"60\"] = predictions[\"60\"].apply(lambda x: x if x >= 1 else 0)\n",
    "predictions[\"70\"] = predictions[\"70\"].apply(lambda x: x if x >= 1 else 0)\n",
    "predictions[\"80\"] = predictions[\"80\"].apply(lambda x: x if x >= 1 else 0)\n",
    "predictions[\"90\"] = predictions[\"90\"].apply(lambda x: x if x >= 1 else 0)"
   ]
  },
  {
   "cell_type": "code",
   "execution_count": 302,
   "metadata": {},
   "outputs": [],
   "source": [
    "predictions.to_csv(\"test_submissions/sird.csv\", index=False)"
   ]
  },
  {
   "cell_type": "markdown",
   "metadata": {},
   "source": [
    "Best loss: 0.7628444761093374"
   ]
  },
  {
   "cell_type": "markdown",
   "metadata": {},
   "source": [
    "## Which Counties are a Good Fit for SIRD?"
   ]
  },
  {
   "cell_type": "code",
   "execution_count": 332,
   "metadata": {},
   "outputs": [
    {
     "data": {
      "text/html": [
       "<div>\n",
       "<style scoped>\n",
       "    .dataframe tbody tr th:only-of-type {\n",
       "        vertical-align: middle;\n",
       "    }\n",
       "\n",
       "    .dataframe tbody tr th {\n",
       "        vertical-align: top;\n",
       "    }\n",
       "\n",
       "    .dataframe thead th {\n",
       "        text-align: right;\n",
       "    }\n",
       "</style>\n",
       "<table border=\"1\" class=\"dataframe\">\n",
       "  <thead>\n",
       "    <tr style=\"text-align: right;\">\n",
       "      <th></th>\n",
       "      <th>FIPS</th>\n",
       "      <th>deaths</th>\n",
       "    </tr>\n",
       "  </thead>\n",
       "  <tbody>\n",
       "    <tr>\n",
       "      <th>0</th>\n",
       "      <td>1001</td>\n",
       "      <td>0</td>\n",
       "    </tr>\n",
       "    <tr>\n",
       "      <th>1</th>\n",
       "      <td>1003</td>\n",
       "      <td>0</td>\n",
       "    </tr>\n",
       "    <tr>\n",
       "      <th>2</th>\n",
       "      <td>1005</td>\n",
       "      <td>0</td>\n",
       "    </tr>\n",
       "    <tr>\n",
       "      <th>3</th>\n",
       "      <td>1007</td>\n",
       "      <td>0</td>\n",
       "    </tr>\n",
       "    <tr>\n",
       "      <th>4</th>\n",
       "      <td>1009</td>\n",
       "      <td>0</td>\n",
       "    </tr>\n",
       "  </tbody>\n",
       "</table>\n",
       "</div>"
      ],
      "text/plain": [
       "   FIPS  deaths\n",
       "0  1001       0\n",
       "1  1003       0\n",
       "2  1005       0\n",
       "3  1007       0\n",
       "4  1009       0"
      ]
     },
     "execution_count": 332,
     "metadata": {},
     "output_type": "execute_result"
    }
   ],
   "source": [
    "total_deaths = fips_list.copy()\n",
    "total_deaths.drop([\"MSA/PMSA NECMA\", \"ST\", \"COUNTY\"], axis=1, inplace=True)\n",
    "total_deaths[\"deaths\"] = 0\n",
    "total_deaths.head()"
   ]
  },
  {
   "cell_type": "code",
   "execution_count": 333,
   "metadata": {},
   "outputs": [
    {
     "data": {
      "text/html": [
       "<div>\n",
       "<style scoped>\n",
       "    .dataframe tbody tr th:only-of-type {\n",
       "        vertical-align: middle;\n",
       "    }\n",
       "\n",
       "    .dataframe tbody tr th {\n",
       "        vertical-align: top;\n",
       "    }\n",
       "\n",
       "    .dataframe thead th {\n",
       "        text-align: right;\n",
       "    }\n",
       "</style>\n",
       "<table border=\"1\" class=\"dataframe\">\n",
       "  <thead>\n",
       "    <tr style=\"text-align: right;\">\n",
       "      <th></th>\n",
       "      <th>FIPS</th>\n",
       "      <th>deaths</th>\n",
       "    </tr>\n",
       "  </thead>\n",
       "  <tbody>\n",
       "    <tr>\n",
       "      <th>0</th>\n",
       "      <td>1001</td>\n",
       "      <td>3</td>\n",
       "    </tr>\n",
       "    <tr>\n",
       "      <th>1</th>\n",
       "      <td>1003</td>\n",
       "      <td>3</td>\n",
       "    </tr>\n",
       "    <tr>\n",
       "      <th>2</th>\n",
       "      <td>1005</td>\n",
       "      <td>0</td>\n",
       "    </tr>\n",
       "    <tr>\n",
       "      <th>3</th>\n",
       "      <td>1007</td>\n",
       "      <td>0</td>\n",
       "    </tr>\n",
       "    <tr>\n",
       "      <th>4</th>\n",
       "      <td>1009</td>\n",
       "      <td>0</td>\n",
       "    </tr>\n",
       "  </tbody>\n",
       "</table>\n",
       "</div>"
      ],
      "text/plain": [
       "   FIPS  deaths\n",
       "0  1001       3\n",
       "1  1003       3\n",
       "2  1005       0\n",
       "3  1007       0\n",
       "4  1009       0"
      ]
     },
     "execution_count": 333,
     "metadata": {},
     "output_type": "execute_result"
    }
   ],
   "source": [
    "for i, row in total_deaths.iterrows():\n",
    "    county = int(row[\"FIPS\"])\n",
    "    c_row = nyt_data.loc[nyt_data[\"fips\"] == county]\n",
    "    cum_deaths = 0\n",
    "    for a, item in c_row.iterrows(): cum_deaths += int(item[\"deaths\"])\n",
    "    \n",
    "    total_deaths.at[i, \"deaths\"] = cum_deaths\n",
    "\n",
    "total_deaths.head()"
   ]
  },
  {
   "cell_type": "code",
   "execution_count": 334,
   "metadata": {},
   "outputs": [],
   "source": [
    "total_deaths.dropna(inplace=True)"
   ]
  },
  {
   "cell_type": "code",
   "execution_count": 335,
   "metadata": {},
   "outputs": [
    {
     "data": {
      "text/html": [
       "<div>\n",
       "<style scoped>\n",
       "    .dataframe tbody tr th:only-of-type {\n",
       "        vertical-align: middle;\n",
       "    }\n",
       "\n",
       "    .dataframe tbody tr th {\n",
       "        vertical-align: top;\n",
       "    }\n",
       "\n",
       "    .dataframe thead th {\n",
       "        text-align: right;\n",
       "    }\n",
       "</style>\n",
       "<table border=\"1\" class=\"dataframe\">\n",
       "  <thead>\n",
       "    <tr style=\"text-align: right;\">\n",
       "      <th></th>\n",
       "      <th>FIPS</th>\n",
       "      <th>deaths</th>\n",
       "    </tr>\n",
       "  </thead>\n",
       "  <tbody>\n",
       "    <tr>\n",
       "      <th>1875</th>\n",
       "      <td>36061</td>\n",
       "      <td>12648</td>\n",
       "    </tr>\n",
       "    <tr>\n",
       "      <th>1874</th>\n",
       "      <td>36059</td>\n",
       "      <td>2152</td>\n",
       "    </tr>\n",
       "    <tr>\n",
       "      <th>1326</th>\n",
       "      <td>26163</td>\n",
       "      <td>1580</td>\n",
       "    </tr>\n",
       "    <tr>\n",
       "      <th>619</th>\n",
       "      <td>17031</td>\n",
       "      <td>1313</td>\n",
       "    </tr>\n",
       "    <tr>\n",
       "      <th>1896</th>\n",
       "      <td>36103</td>\n",
       "      <td>1265</td>\n",
       "    </tr>\n",
       "  </tbody>\n",
       "</table>\n",
       "</div>"
      ],
      "text/plain": [
       "       FIPS  deaths\n",
       "1875  36061   12648\n",
       "1874  36059    2152\n",
       "1326  26163    1580\n",
       "619   17031    1313\n",
       "1896  36103    1265"
      ]
     },
     "execution_count": 335,
     "metadata": {},
     "output_type": "execute_result"
    }
   ],
   "source": [
    "total_deaths.sort_values(\"deaths\", inplace=True, ascending=False)\n",
    "total_deaths.head()"
   ]
  },
  {
   "cell_type": "code",
   "execution_count": 339,
   "metadata": {},
   "outputs": [
    {
     "name": "stderr",
     "output_type": "stream",
     "text": [
      "/usr/local/lib/python3.7/site-packages/ipykernel_launcher.py:11: SettingWithCopyWarning: \n",
      "A value is trying to be set on a copy of a slice from a DataFrame.\n",
      "Try using .loc[row_indexer,col_indexer] = value instead\n",
      "\n",
      "See the caveats in the documentation: https://pandas.pydata.org/pandas-docs/stable/user_guide/indexing.html#returning-a-view-versus-a-copy\n",
      "  # This is added back by InteractiveShellApp.init_path()\n"
     ]
    },
    {
     "name": "stdout",
     "output_type": "stream",
     "text": [
      "Error for county 36061 was 1158.027080969778\n",
      "Error for county 36059 was 264.0351977973268\n",
      "Error for county 26163 was 120.35064960014144\n",
      "Error for county 17031 was 26.24822374568576\n",
      "Error for county 36103 was 487.81010376207104\n",
      "Error for county 36119 was 25.358076346747737\n",
      "Error for county 34013 was 81.96195440368486\n",
      "Error for county 34003 was 79.74670352718593\n",
      "Error for county 6037 was 12.940415688622076\n",
      "Error for county 9001 was 14.636666592611544\n",
      "Error for county 25017 was 7.026208432028948\n",
      "Error for county 34017 was 32.875378287169255\n",
      "Error for county 26125 was 27.38991588294568\n",
      "Error for county 9003 was 11.861866292115419\n",
      "Error for county 34039 was 25.098935408288266\n",
      "Error for county 26099 was 30.872217570726082\n",
      "Error for county 42101 was 18.156172434176593\n",
      "Error for county 34023 was 20.490366032227747\n",
      "Error for county 9009 was 19.97221689887727\n",
      "Error for county 34031 was 12.29155645187035\n",
      "Error for county 25025 was 4.070874312434727\n"
     ]
    }
   ],
   "source": [
    "test_per = 14\n",
    "total_deaths.reset_index(inplace=True)\n",
    "\n",
    "for i, row in total_deaths.iterrows():\n",
    "    if i > 20: break\n",
    "    fips = row[\"FIPS\"]\n",
    "        \n",
    "    pop = int(population.loc[population[\"FIPS\"] == fips][\"total_pop\"])\n",
    "    df = nyt_data.loc[nyt_data[\"fips\"] == fips]\n",
    "    df.reset_index(inplace=True)\n",
    "    df[\"c_deaths\"], df[\"c_cases\"] = 0, 0\n",
    "    for i, row in df.iterrows():   \n",
    "        try:\n",
    "            df.at[i, \"c_deaths\"] = df.loc[i - 1, \"c_deaths\"] + df.loc[i, \"deaths\"]\n",
    "            df.at[i, \"c_cases\"] = df.loc[i - 1, \"c_cases\"] + df.loc[i, \"cases\"]\n",
    "        except Exception as e:\n",
    "            df.at[i, \"c_deaths\"] = df.loc[i, \"deaths\"]\n",
    "            df.at[i, \"c_cases\"] = df.loc[i, \"cases\"]\n",
    "\n",
    "    # Find first cases\n",
    "    infection_start = df.loc[df[\"cases\"] > 0].first_valid_index()\n",
    "    start_date = df.iloc[infection_start][\"date\"]\n",
    "\n",
    "    # Initial number of susceptible, infectious, recovered, deceased\n",
    "    inf_init = df.iloc[infection_start][\"cases\"]\n",
    "    rec_init = 0\n",
    "    dec_init = df.iloc[infection_start][\"deaths\"]\n",
    "    sus_init = pop - inf_init - rec_init - dec_init\n",
    "    y_init = sus_init, inf_init, rec_init, dec_init\n",
    "\n",
    "    t = np.linspace(0, len(df)-test_per-infection_start, len(df)-test_per-infection_start)\n",
    "    \n",
    "    param_space = {\n",
    "        \"beta\": hp.uniform(\"beta\", 0, 1),\n",
    "        \"gamma\": hp.uniform(\"gamma\", 0, 1),\n",
    "        \"mu\": hp.uniform(\"mu\", 0, 1)\n",
    "    }\n",
    "\n",
    "    hopt = HyperOpt(pop, df[infection_start:-test_per], y_init, t)\n",
    "    optimized, trials = hopt.optimize_params(space=param_space, trials=Trials(), algo=tpe.suggest, max_evals=100)\n",
    "    \n",
    "    t = np.linspace(0, len(df), len(df))\n",
    "    res = odeint(get_derivatives, y_init, t, args=(pop, optimized[\"beta\"], optimized[\"gamma\"], optimized[\"mu\"]))\n",
    "    S, I, R, D = res.T\n",
    "    \n",
    "    rmse = SIRD_rmse(S, I, R, D, df)\n",
    "    \n",
    "    print(\"Error for county\", fips, \"was\", str(rmse))\n",
    "    "
   ]
  },
  {
   "cell_type": "markdown",
   "metadata": {},
   "source": [
    "Counties with error under 100:\n",
    "- 17031\n",
    "- 36119\n",
    "- 34013\n",
    "- 34003\n",
    "- 6037\n",
    "- 9001\n",
    "- 25017\n",
    "- 34017\n",
    "- 26125\n",
    "- 9003\n",
    "- 34039\n",
    "- 26099\n",
    "- 42101\n",
    "- 34023\n",
    "- 9009\n",
    "- 34031\n",
    "- 25025\n",
    "\n",
    "Counties with error under 25:\n",
    "- 6037\n",
    "- 9001\n",
    "- 25017\n",
    "- 9003\n",
    "- 42101\n",
    "- 34023\n",
    "- 9009\n",
    "- 34031\n",
    "- 25025"
   ]
  },
  {
   "cell_type": "code",
   "execution_count": null,
   "metadata": {},
   "outputs": [],
   "source": []
  }
 ],
 "metadata": {
  "kernelspec": {
   "display_name": "Python 3",
   "language": "python",
   "name": "python3"
  },
  "language_info": {
   "codemirror_mode": {
    "name": "ipython",
    "version": 3
   },
   "file_extension": ".py",
   "mimetype": "text/x-python",
   "name": "python",
   "nbconvert_exporter": "python",
   "pygments_lexer": "ipython3",
   "version": "3.7.6"
  }
 },
 "nbformat": 4,
 "nbformat_minor": 4
}
