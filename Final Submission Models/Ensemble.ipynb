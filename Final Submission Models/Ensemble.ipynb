{
 "cells": [
  {
   "cell_type": "code",
   "execution_count": 21,
   "metadata": {},
   "outputs": [],
   "source": [
    "import pandas as pd\n",
    "from scipy.stats import norm\n",
    "\n",
    "import imperial_model\n",
    "from imperial_model import ImperialModel\n",
    "\n",
    "import case_distribution_model\n",
    "from case_distribution_model import CaseDistributionModel\n",
    "\n",
    "from historian_model import HistorianModel\n",
    "from arima_residuals_model import ArimaResidualsModel\n",
    "from benchmark_model import BenchmarkModel\n",
    "from arima_model import ArimaModel"
   ]
  },
  {
   "cell_type": "code",
   "execution_count": 22,
   "metadata": {},
   "outputs": [],
   "source": [
    "arima_residuals_model = ArimaResidualsModel()\n",
    "arima_residuals_preds = arima_residuals_model.get_predictions_for_all_counties(\"2020-05-24\", 18)"
   ]
  },
  {
   "cell_type": "code",
   "execution_count": 27,
   "metadata": {},
   "outputs": [],
   "source": [
    "arima_model = ArimaModel()\n",
    "arima_preds = arima_model.get_predictions_for_all_counties(\"2020-05-24\", 18)"
   ]
  },
  {
   "cell_type": "code",
   "execution_count": null,
   "metadata": {},
   "outputs": [],
   "source": [
    "arima_preds[1045]"
   ]
  },
  {
   "cell_type": "code",
   "execution_count": 29,
   "metadata": {},
   "outputs": [],
   "source": [
    "benchmark_model = BenchmarkModel()\n",
    "benchmark_preds = benchmark_model.predict_all_counties(\"2020-06-07\", \"2020-05-24\")"
   ]
  },
  {
   "cell_type": "code",
   "execution_count": 38,
   "metadata": {},
   "outputs": [],
   "source": [
    "historian_model = HistorianModel(\"2020-05-24\")\n",
    "\n",
    "fips_list = imperial_model.get_top_cumuluative_death_counties(100, \"2020-05-24\")[30:]\n",
    "historian_preds = {}\n",
    "for fips in fips_list:\n",
    "    historian_preds[fips] = historian_model.get_predictions(fips, 18)"
   ]
  },
  {
   "cell_type": "code",
   "execution_count": 33,
   "metadata": {},
   "outputs": [
    {
     "name": "stderr",
     "output_type": "stream",
     "text": [
      "INFO:pystan:COMPILING THE C++ CODE FOR MODEL anon_model_09a2e01a82b24cf2e68c80bc9db06884 NOW.\n"
     ]
    },
    {
     "name": "stdout",
     "output_type": "stream",
     "text": [
      "Compiling model...\n",
      "Training model...\n"
     ]
    },
    {
     "name": "stderr",
     "output_type": "stream",
     "text": [
      "WARNING:pystan:Maximum (flat) parameter count (1000) exceeded: skipping diagnostic tests for n_eff and Rhat.\n",
      "To run all diagnostics call pystan.check_hmc_diagnostics(fit)\n"
     ]
    },
    {
     "name": "stdout",
     "output_type": "stream",
     "text": [
      "Training compelted.\n"
     ]
    }
   ],
   "source": [
    "case_model = CaseDistributionModel()\n",
    "case_counties = imperial_model.get_top_cumuluative_death_counties(100, \"2020-05-24\")\n",
    "\n",
    "fit = case_model.train(case_counties, \"2020-05-24\", 14, 50, 400, 4)"
   ]
  },
  {
   "cell_type": "code",
   "execution_count": 34,
   "metadata": {},
   "outputs": [],
   "source": [
    "case_model_preds = case_model.get_predictions_map(fit)"
   ]
  },
  {
   "cell_type": "code",
   "execution_count": null,
   "metadata": {},
   "outputs": [],
   "source": [
    "imp_model = ImperialModel()\n",
    "imp_counties = imperial_model.get_top_cumuluative_death_counties(100, \"2020-05-09\")\n",
    "fit = imp_model.train_imperial_model(imp_counties, \"2020-05-09\", 16, \"2020-05-09\", 300, 4)"
   ]
  },
  {
   "cell_type": "code",
   "execution_count": null,
   "metadata": {},
   "outputs": [],
   "source": [
    "key = pd.read_csv(\"../data/us/processing_data/fips_key.csv\", encoding='latin-1')\n",
    "all_fips = key[\"FIPS\"].tolist()\n",
    "\n",
    "imperial_preds = imp_model.get_imperial_predictions_map(fit)"
   ]
  },
  {
   "cell_type": "code",
   "execution_count": 36,
   "metadata": {},
   "outputs": [],
   "source": [
    "sample_submission = pd.read_csv(\"../sample_submission.csv\")\n",
    "\n",
    "#dates_of_interest = ['2020-05-10', '2020-05-11', '2020-05-12', '2020-05-13', '2020-05-14', '2020-05-15', '2020-05-16', '2020-05-17', '2020-05-18', '2020-05-19', '2020-05-20', '2020-05-21', '2020-05-22', '2020-05-23']\n",
    "dates_of_interest = ['2020-05-25', '2020-05-26', '2020-05-27', '2020-05-28', '2020-05-29', '2020-05-30', '2020-05-31', '2020-06-01', '2020-06-02', '2020-06-03', '2020-06-04', '2020-06-05', '2020-06-06', '2020-06-07']\n",
    "\n",
    "def get_id_list():\n",
    "    return sample_submission[\"id\"].values\n",
    "\n",
    "def extract_date_from_id(row_id):\n",
    "    split = row_id.split('-')\n",
    "    return '-'.join(split[:-1])\n",
    "\n",
    "def extract_fips_from_id(row_id):\n",
    "    return row_id.split('-')[-1]\n",
    "\n",
    "def generate_quantiles(value, err):\n",
    "    if err == 0:\n",
    "        return [value] * 9\n",
    "    \n",
    "    quantiles = []\n",
    "    for quantile in [0.1, 0.2, 0.3, 0.4, 0.5, 0.6, 0.7, 0.8, 0.9]:\n",
    "        quantiles.append(norm.ppf(quantile, loc=value, scale=err))\n",
    "\n",
    "    return quantiles\n",
    "\n",
    "def create_submission_from_map(preds, output_file):\n",
    "    lists = []\n",
    "    for row_id in get_id_list():\n",
    "        date = extract_date_from_id(row_id)\n",
    "        fips = int(extract_fips_from_id(row_id))\n",
    "        \n",
    "        if not fips in preds:\n",
    "            lst = [row_id] + [\"%.2f\" % 0.00] * 9\n",
    "            lists.append(lst)\n",
    "            continue\n",
    "            \n",
    "        if not date in dates_of_interest:\n",
    "            lst = [row_id] + [\"%.2f\" % 0.00] * 9\n",
    "            lists.append(lst)\n",
    "            continue\n",
    "            \n",
    "        date_index = dates_of_interest.index(date)\n",
    "        quantiles = generate_quantiles(preds[fips][date_index], preds[fips][date_index] * 0.6)\n",
    "        lst = [row_id]\n",
    "        for q in quantiles:\n",
    "            if q == \"nan\":\n",
    "                lst.append(\"%.2f\" % 0.00)\n",
    "            elif q < 0:\n",
    "                lst.append(\"%.2f\" % 0.00)\n",
    "            else:\n",
    "                lst.append(\"%.2f\" % q)\n",
    "        \n",
    "        lists.append(lst)\n",
    "    \n",
    "    df = pd.DataFrame(lists, columns=sample_submission.columns)\n",
    "    df.to_csv(output_file, index=False, sep=',')"
   ]
  },
  {
   "cell_type": "code",
   "execution_count": 39,
   "metadata": {},
   "outputs": [
    {
     "name": "stderr",
     "output_type": "stream",
     "text": [
      "/usr/local/lib/python3.7/site-packages/ipykernel_launcher.py:46: FutureWarning: elementwise comparison failed; returning scalar instead, but in the future will perform elementwise comparison\n"
     ]
    }
   ],
   "source": [
    "create_submission_from_map(historian_preds, \"submissions/historian_model_5-24.csv\")"
   ]
  },
  {
   "cell_type": "code",
   "execution_count": null,
   "metadata": {},
   "outputs": [],
   "source": []
  }
 ],
 "metadata": {
  "kernelspec": {
   "display_name": "Python 3",
   "language": "python",
   "name": "python3"
  },
  "language_info": {
   "codemirror_mode": {
    "name": "ipython",
    "version": 3
   },
   "file_extension": ".py",
   "mimetype": "text/x-python",
   "name": "python",
   "nbconvert_exporter": "python",
   "pygments_lexer": "ipython3",
   "version": "3.7.7"
  }
 },
 "nbformat": 4,
 "nbformat_minor": 4
}
