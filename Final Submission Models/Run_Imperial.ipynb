{
 "cells": [
  {
   "cell_type": "code",
   "execution_count": 1,
   "metadata": {},
   "outputs": [],
   "source": [
    "import pandas as pd\n",
    "from scipy.stats import norm\n",
    "\n",
    "import imperial_model\n",
    "from imperial_model import ImperialModel"
   ]
  },
  {
   "cell_type": "code",
   "execution_count": 2,
   "metadata": {},
   "outputs": [
    {
     "name": "stderr",
     "output_type": "stream",
     "text": [
      "INFO:pystan:COMPILING THE C++ CODE FOR MODEL anon_model_67df06f30f21e8ec3873e0c072506f90 NOW.\n"
     ]
    },
    {
     "name": "stdout",
     "output_type": "stream",
     "text": [
      "Compiling model...\n",
      "Training model...\n"
     ]
    },
    {
     "name": "stderr",
     "output_type": "stream",
     "text": [
      "WARNING:pystan:Maximum (flat) parameter count (1000) exceeded: skipping diagnostic tests for n_eff and Rhat.\n",
      "To run all diagnostics call pystan.check_hmc_diagnostics(fit)\n"
     ]
    },
    {
     "name": "stdout",
     "output_type": "stream",
     "text": [
      "Training completed.\n"
     ]
    }
   ],
   "source": [
    "imp_model = ImperialModel()\n",
    "imp_counties = imperial_model.get_top_cumuluative_death_counties(30, \"2020-05-24\")\n",
    "fit = imp_model.train_imperial_model(imp_counties, \"2020-05-24\", 18, \"2020-05-16\", 200, 4)"
   ]
  },
  {
   "cell_type": "code",
   "execution_count": 3,
   "metadata": {},
   "outputs": [],
   "source": [
    "key = pd.read_csv(\"../data/us/processing_data/fips_key.csv\", encoding='latin-1')\n",
    "all_fips = key[\"FIPS\"].tolist()\n",
    "\n",
    "imperial_preds = imp_model.get_imperial_predictions_map(fit)"
   ]
  },
  {
   "cell_type": "code",
   "execution_count": 7,
   "metadata": {},
   "outputs": [],
   "source": [
    "sample_submission = pd.read_csv(\"../sample_submission.csv\")\n",
    "dates_of_interest = ['2020-05-25', '2020-05-26', '2020-05-27', '2020-05-28', '2020-05-29', '2020-05-30', '2020-05-31', '2020-06-01', '2020-06-02', '2020-06-03', '2020-06-04', '2020-06-05', '2020-06-06', '2020-06-07']\n",
    "\n",
    "def get_id_list():\n",
    "    return sample_submission[\"id\"].values\n",
    "\n",
    "def extract_date_from_id(row_id):\n",
    "    split = row_id.split('-')\n",
    "    return '-'.join(split[:-1])\n",
    "\n",
    "def extract_fips_from_id(row_id):\n",
    "    return row_id.split('-')[-1]\n",
    "\n",
    "def generate_quantiles(value, err):\n",
    "    if err == 0:\n",
    "        return [value] * 9\n",
    "    \n",
    "    quantiles = []\n",
    "    for quantile in [0.1, 0.2, 0.3, 0.4, 0.5, 0.6, 0.7, 0.8, 0.9]:\n",
    "        quantiles.append(norm.ppf(quantile, loc=value, scale=err))\n",
    "\n",
    "    return quantiles\n",
    "\n",
    "def create_submission_from_map(preds):\n",
    "    lists = []\n",
    "    for row_id in get_id_list():\n",
    "        date = extract_date_from_id(row_id)\n",
    "        fips = int(extract_fips_from_id(row_id))\n",
    "        \n",
    "        if not fips in preds:\n",
    "            lst = [row_id] + [\"%.2f\" % 0.00] * 9\n",
    "            lists.append(lst)\n",
    "            continue\n",
    "            \n",
    "        if not date in dates_of_interest:\n",
    "            lst = [row_id] + [\"%.2f\" % 0.00] * 9\n",
    "            lists.append(lst)\n",
    "            continue\n",
    "            \n",
    "        date_index = dates_of_interest.index(date)\n",
    "        quantiles = generate_quantiles(preds[fips][date_index], preds[fips][date_index] * 0.6)\n",
    "        lst = [row_id]\n",
    "        for q in quantiles:\n",
    "            if q < 0:\n",
    "                lst.append(\"%.2f\" % 0.00)\n",
    "            else:\n",
    "                lst.append(\"%.2f\" % q)\n",
    "        \n",
    "        lists.append(lst)\n",
    "    \n",
    "    df = pd.DataFrame(lists, columns=sample_submission.columns)\n",
    "    df.to_csv(\"top_30_imperial_submission.csv\", index=False, sep=',')"
   ]
  },
  {
   "cell_type": "code",
   "execution_count": 8,
   "metadata": {},
   "outputs": [],
   "source": [
    "create_submission_from_map(imperial_preds)"
   ]
  },
  {
   "cell_type": "code",
   "execution_count": 9,
   "metadata": {},
   "outputs": [
    {
     "data": {
      "text/plain": [
       "array([ 0.,  0.,  0.,  0.,  0.,  0.,  0.,  0.,  0.,  0.,  0.,  0.,  0.,\n",
       "        0.,  0.,  0.,  0.,  0.,  0.,  0.,  1.,  2.,  1.,  0.,  0.,  2.,\n",
       "        1.,  1.,  2.,  3.,  1.,  1.,  5.,  3.,  3.,  4.,  9.,  0.,  1.,\n",
       "        6., 14., 11.,  3.,  4., 13.,  9., 18.,  6.,  0.,  7., 11.,  1.,\n",
       "        2., 19., 60., 11.,  5., 15.,  0.,  3., 62.,  6., 50.,  6., 12.,\n",
       "        1.,  4.,  6., 14., 29., 18., 12.,  0.,  0., 13.,  0.,  0., 27.,\n",
       "        3.,  0.])"
      ]
     },
     "execution_count": 9,
     "metadata": {},
     "output_type": "execute_result"
    }
   ],
   "source": [
    "imperial_model.imperial_util.get_deaths_list(42045, endDate=\"2020-05-24\")"
   ]
  },
  {
   "cell_type": "code",
   "execution_count": null,
   "metadata": {},
   "outputs": [],
   "source": []
  }
 ],
 "metadata": {
  "kernelspec": {
   "display_name": "Python 3",
   "language": "python",
   "name": "python3"
  },
  "language_info": {
   "codemirror_mode": {
    "name": "ipython",
    "version": 3
   },
   "file_extension": ".py",
   "mimetype": "text/x-python",
   "name": "python",
   "nbconvert_exporter": "python",
   "pygments_lexer": "ipython3",
   "version": "3.7.7"
  }
 },
 "nbformat": 4,
 "nbformat_minor": 4
}
